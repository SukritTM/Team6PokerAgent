{
 "cells": [
  {
   "cell_type": "code",
   "id": "initial_id",
   "metadata": {
    "collapsed": true,
    "ExecuteTime": {
     "end_time": "2025-04-29T14:46:35.212449Z",
     "start_time": "2025-04-29T14:46:35.207960Z"
    }
   },
   "source": "from treys import Card, Deck, Evaluator",
   "outputs": [],
   "execution_count": 1
  },
  {
   "metadata": {
    "ExecuteTime": {
     "end_time": "2025-04-29T14:46:43.359096Z",
     "start_time": "2025-04-29T14:46:43.355706Z"
    }
   },
   "cell_type": "code",
   "source": "hand = [Card.new('As'), Card.new('Ah')]",
   "id": "c1506108a651b9ea",
   "outputs": [],
   "execution_count": 2
  },
  {
   "metadata": {
    "ExecuteTime": {
     "end_time": "2025-04-29T15:13:03.917456Z",
     "start_time": "2025-04-29T15:13:03.903393Z"
    }
   },
   "cell_type": "code",
   "source": [
    "evaluator = Evaluator()\n",
    "lookup_table = evaluator.table"
   ],
   "id": "6ff7751a9e67160c",
   "outputs": [],
   "execution_count": 5
  },
  {
   "metadata": {
    "ExecuteTime": {
     "end_time": "2025-04-29T15:15:56.991163Z",
     "start_time": "2025-04-29T15:15:56.986027Z"
    }
   },
   "cell_type": "code",
   "source": [
    "len(lookup_table.flush_lookup)\n",
    "len(lookup_table.unsuited_lookup)"
   ],
   "id": "75b7e890430b23a1",
   "outputs": [
    {
     "data": {
      "text/plain": [
       "6175"
      ]
     },
     "execution_count": 11,
     "metadata": {},
     "output_type": "execute_result"
    }
   ],
   "execution_count": 11
  },
  {
   "metadata": {
    "ExecuteTime": {
     "end_time": "2025-04-29T15:16:48.324207Z",
     "start_time": "2025-04-29T15:16:48.319154Z"
    }
   },
   "cell_type": "code",
   "source": "evaluator.evaluate([Card.new('As'), Card.new('Ah')], [Card.new('2d'), Card.new('3d'), Card.new('4d')])",
   "id": "30dc5fa75fa7b244",
   "outputs": [
    {
     "data": {
      "text/plain": [
       "3545"
      ]
     },
     "execution_count": 12,
     "metadata": {},
     "output_type": "execute_result"
    }
   ],
   "execution_count": 12
  },
  {
   "metadata": {
    "ExecuteTime": {
     "end_time": "2025-04-29T15:27:48.613901Z",
     "start_time": "2025-04-29T15:27:48.608931Z"
    }
   },
   "cell_type": "code",
   "source": "hand = [Card.new('As'), Card.new('Ah')]\n",
   "id": "8e29fc5f4fbb3e1c",
   "outputs": [
    {
     "data": {
      "text/plain": [
       "4096"
      ]
     },
     "execution_count": 17,
     "metadata": {},
     "output_type": "execute_result"
    }
   ],
   "execution_count": 17
  },
  {
   "metadata": {
    "ExecuteTime": {
     "end_time": "2025-04-29T15:42:47.866234Z",
     "start_time": "2025-04-29T15:42:47.864089Z"
    }
   },
   "cell_type": "code",
   "source": "",
   "id": "30764d20b3904194",
   "outputs": [],
   "execution_count": null
  },
  {
   "metadata": {
    "ExecuteTime": {
     "end_time": "2025-04-29T15:28:40.853945Z",
     "start_time": "2025-04-29T15:28:40.848235Z"
    }
   },
   "cell_type": "code",
   "source": "Card.prime_product_from_rankbits(6144)",
   "id": "3e6881eacf912cae",
   "outputs": [
    {
     "data": {
      "text/plain": [
       "1517"
      ]
     },
     "execution_count": 19,
     "metadata": {},
     "output_type": "execute_result"
    }
   ],
   "execution_count": 19
  },
  {
   "metadata": {
    "ExecuteTime": {
     "end_time": "2025-04-29T15:29:25.450353Z",
     "start_time": "2025-04-29T15:29:25.440081Z"
    }
   },
   "cell_type": "code",
   "source": "lookup_table.flush_lookup[1517]",
   "id": "3a0389334e612c96",
   "outputs": [
    {
     "ename": "KeyError",
     "evalue": "1517",
     "output_type": "error",
     "traceback": [
      "\u001B[0;31m---------------------------------------------------------------------------\u001B[0m",
      "\u001B[0;31mKeyError\u001B[0m                                  Traceback (most recent call last)",
      "Cell \u001B[0;32mIn[21], line 1\u001B[0m\n\u001B[0;32m----> 1\u001B[0m \u001B[43mlookup_table\u001B[49m\u001B[38;5;241;43m.\u001B[39;49m\u001B[43mflush_lookup\u001B[49m\u001B[43m[\u001B[49m\u001B[38;5;241;43m1517\u001B[39;49m\u001B[43m]\u001B[49m\n",
      "\u001B[0;31mKeyError\u001B[0m: 1517"
     ]
    }
   ],
   "execution_count": 21
  },
  {
   "metadata": {},
   "cell_type": "code",
   "outputs": [],
   "execution_count": null,
   "source": "",
   "id": "7c3e6675420d3042"
  }
 ],
 "metadata": {
  "kernelspec": {
   "display_name": "Python 3",
   "language": "python",
   "name": "python3"
  },
  "language_info": {
   "codemirror_mode": {
    "name": "ipython",
    "version": 2
   },
   "file_extension": ".py",
   "mimetype": "text/x-python",
   "name": "python",
   "nbconvert_exporter": "python",
   "pygments_lexer": "ipython2",
   "version": "2.7.6"
  }
 },
 "nbformat": 4,
 "nbformat_minor": 5
}
