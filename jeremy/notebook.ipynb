{
 "cells": [
  {
   "cell_type": "code",
   "id": "initial_id",
   "metadata": {
    "collapsed": true,
    "ExecuteTime": {
     "end_time": "2025-04-09T10:59:47.764272Z",
     "start_time": "2025-04-09T10:59:47.762146Z"
    }
   },
   "source": [
    "from pypokerengine.api.game import setup_config, start_poker\n",
    "from pypokerengine.players import BasePokerPlayer\n",
    "from pypokerengine.engine.card import Card\n",
    "from raise_player import RaisedPlayer\n",
    "\n",
    "import numpy as np\n",
    "from matplotlib import pyplot as plt"
   ],
   "outputs": [],
   "execution_count": 51
  },
  {
   "metadata": {
    "ExecuteTime": {
     "end_time": "2025-04-07T14:29:22.188605Z",
     "start_time": "2025-04-07T14:29:22.153565Z"
    }
   },
   "cell_type": "code",
   "source": [
    "\n",
    "from typing import Dict, Literal, List, TypedDict, Tuple\n",
    "\n",
    "ALL_CARDS = tuple(s + r for s in Card.SUIT_MAP.values() for r in Card.RANK_MAP.values())\n",
    "CardString = Literal[ALL_CARDS]\n",
    "PlayerUUID = str\n",
    "Street = Literal[\"preflop\", \"flop\", \"turn\", \"river\", \"showdown\"]\n",
    "Action = Literal[\"fold\", \"call\", \"raise\"]\n",
    "\n",
    "class ActionOption(TypedDict):\n",
    "    action: Action\n",
    "\n",
    "class ActionUpdate(TypedDict):\n",
    "    player_uuid: PlayerUUID\n",
    "    action: Action\n",
    "    amount: int\n",
    "\n",
    "class ActionHistory(TypedDict):\n",
    "    action: Literal[\"SMALLBLIND\", \"BIGBLIND\", \"FOLD\", \"CALL\", \"RAISE\"]\n",
    "    amount: int\n",
    "    add_amount: int\n",
    "    uuid: PlayerUUID\n",
    "\n",
    "class MainPot(TypedDict):\n",
    "    amount: int\n",
    "\n",
    "class SidePot(TypedDict):\n",
    "    amount: int\n",
    "    eligibles: List[PlayerUUID]\n",
    "\n",
    "class Pot(TypedDict):\n",
    "    main: MainPot\n",
    "    side: List[SidePot]\n",
    "\n",
    "class Seat(TypedDict):\n",
    "    name: str\n",
    "    uuid: PlayerUUID\n",
    "    stack: int\n",
    "    state: Literal[\"participating\", \"folded\", \"allin\"]\n",
    "\n",
    "class RoundState(TypedDict):\n",
    "    street: Street\n",
    "    pot: Pot\n",
    "    community_card: List[CardString]\n",
    "    dealer_btn: int\n",
    "    next_player: int\n",
    "    small_blind_pos: int\n",
    "    big_blind_pos: int\n",
    "    round_count: int\n",
    "    small_blind_amount: int\n",
    "    seats: List[Seat]\n",
    "    action_histories: Dict[Street, List[ActionHistory]]\n",
    "\n",
    "class BlindStructureLevel(TypedDict):\n",
    "    ante: int\n",
    "    small_blind: int\n",
    "\n",
    "BlindStructure = Dict[int, BlindStructureLevel]\n",
    "\n",
    "class GameInfoRule(TypedDict):\n",
    "    initial_stack: int\n",
    "    max_round: int\n",
    "    small_blind_amount: int\n",
    "    ante: int\n",
    "    blind_structure: BlindStructure\n",
    "\n",
    "\n",
    "class GameInfo(TypedDict):\n",
    "    player_num: int\n",
    "    rule: GameInfoRule\n",
    "    seats: List[Seat]\n",
    "\n",
    "class HandDetails(TypedDict):\n",
    "    strength: Literal[\"HIGHCARD\", \"ONEPAIR\", \"TWOPAIR\", \"THREEOFKIND\", \"STRAIGHT\", \"FLUSH\", \"FULLHOUSE\", \"FOUROFAKIND\", \"STRAIGHTFLUSH\", \"ROYALFLUSH\"]\n",
    "    high: int\n",
    "    low: int\n",
    "\n",
    "class HoleDetails(TypedDict):\n",
    "    high: int\n",
    "    low: int\n",
    "\n",
    "class Hand(TypedDict):\n",
    "    hand: HandDetails\n",
    "    hole: HoleDetails\n",
    "\n",
    "class HandInfo(TypedDict):\n",
    "    uuid: PlayerUUID\n",
    "    hand: Hand\n",
    "\n",
    "class TypedPokerPlayer(BasePokerPlayer):\n",
    "    def declare_action(self, valid_actions: List[ActionOption], hole_card: List[CardString], round_state: RoundState) -> Action:\n",
    "        # pprint(valid_actions, indent=4, sort_dicts=False)\n",
    "        if \"raise\" in [action[\"action\"] for action in valid_actions]:\n",
    "            return \"raise\"\n",
    "        elif \"call\" in [action[\"action\"] for action in valid_actions]:\n",
    "            return \"call\"\n",
    "        else:\n",
    "            return \"fold\"\n",
    "        return super().declare_action(valid_actions, hole_card, round_state)\n",
    "\n",
    "    def receive_game_start_message(self, game_info: GameInfo) -> None:\n",
    "        pass\n",
    "\n",
    "    def receive_round_start_message(self, round_count: int, hole_card: List[CardString], seats: List[Seat]) -> None:\n",
    "        pass\n",
    "\n",
    "    def receive_street_start_message(self, street: Street, round_state: RoundState) -> None:\n",
    "        # pprint(round_state)\n",
    "        pass\n",
    "\n",
    "    def receive_game_update_message(self, action: ActionUpdate, round_state: RoundState) -> None:\n",
    "        pass\n",
    "\n",
    "    def receive_round_result_message(self, winners: List[Seat], hand_info: HandInfo, round_state: RoundState) -> None:\n",
    "        pass"
   ],
   "id": "a50853545eac9990",
   "outputs": [],
   "execution_count": 3
  },
  {
   "metadata": {
    "ExecuteTime": {
     "end_time": "2025-04-07T14:30:53.507019Z",
     "start_time": "2025-04-07T14:30:53.496436Z"
    }
   },
   "cell_type": "code",
   "source": [
    "config = setup_config(max_round=1, initial_stack=10000, small_blind_amount=10)\n",
    "config.register_player(name=\"f1\", algorithm=TypedPokerPlayer())\n",
    "config.register_player(name=\"FT2\", algorithm=TypedPokerPlayer())\n",
    "game_result = start_poker(config, verbose=1)"
   ],
   "id": "b48801acdb82e573",
   "outputs": [
    {
     "name": "stdout",
     "output_type": "stream",
     "text": [
      "Started the round 1\n",
      "Street \"preflop\" started. (community card = [])\n",
      "\"FT2\" declared \"raise:40\"\n",
      "\"f1\" declared \"raise:60\"\n",
      "\"FT2\" declared \"raise:80\"\n",
      "\"f1\" declared \"call:80\"\n",
      "Street \"flop\" started. (community card = ['D4', 'DA', 'DT'])\n",
      "\"FT2\" declared \"raise:20\"\n",
      "\"f1\" declared \"raise:40\"\n",
      "\"FT2\" declared \"raise:60\"\n",
      "\"f1\" declared \"raise:80\"\n",
      "\"FT2\" declared \"call:80\"\n",
      "Street \"turn\" started. (community card = ['D4', 'DA', 'DT', 'S4'])\n",
      "\"FT2\" declared \"call:0\"\n",
      "\"f1\" declared \"raise:40\"\n",
      "\"FT2\" declared \"call:40\"\n",
      "Street \"river\" started. (community card = ['D4', 'DA', 'DT', 'S4', 'SQ'])\n",
      "\"FT2\" declared \"call:0\"\n",
      "\"f1\" declared \"call:0\"\n",
      "\"['FT2']\" won the round 1 (stack = {'f1': 9800, 'FT2': 10200})\n"
     ]
    }
   ],
   "execution_count": 7
  },
  {
   "metadata": {
    "ExecuteTime": {
     "end_time": "2025-04-07T14:30:57.961614Z",
     "start_time": "2025-04-07T14:30:57.956852Z"
    }
   },
   "cell_type": "code",
   "source": "game_result",
   "id": "3a7d33dae94b441e",
   "outputs": [
    {
     "data": {
      "text/plain": [
       "{'rule': {'initial_stack': 10000,\n",
       "  'max_round': 1,\n",
       "  'small_blind_amount': 10,\n",
       "  'ante': 0,\n",
       "  'blind_structure': {}},\n",
       " 'players': [{'name': 'f1',\n",
       "   'uuid': 'ewuoybtbzzjzhcjvwohzff',\n",
       "   'stack': 9800,\n",
       "   'state': 'participating'},\n",
       "  {'name': 'FT2',\n",
       "   'uuid': 'ddszzxroepirowmbfyrxds',\n",
       "   'stack': 10200,\n",
       "   'state': 'participating'}]}"
      ]
     },
     "execution_count": 8,
     "metadata": {},
     "output_type": "execute_result"
    }
   ],
   "execution_count": 8
  },
  {
   "metadata": {
    "ExecuteTime": {
     "end_time": "2025-04-08T02:11:20.973838Z",
     "start_time": "2025-04-08T02:11:20.969787Z"
    }
   },
   "cell_type": "code",
   "source": [
    "def evaluate_agents(player1_cls: BasePokerPlayer, player2_cls: BasePokerPlayer, num_games: int = 100):\n",
    "    results = []\n",
    "\n",
    "    for i in range(num_games):\n",
    "        config = setup_config(max_round=1, initial_stack=10000, small_blind_amount=10)\n",
    "        config.register_player(name=\"Player1\", algorithm=player1_cls())\n",
    "        config.register_player(name=\"Player2\", algorithm=player2_cls())\n",
    "\n",
    "        game_result = start_poker(config, verbose=0)\n",
    "        p1_stack = game_result[\"players\"][0][\"stack\"]\n",
    "        p2_stack = game_result[\"players\"][1][\"stack\"]\n",
    "\n",
    "        results.append((p1_stack, p2_stack))\n",
    "\n",
    "    return results"
   ],
   "id": "17e8f47d805e02ac",
   "outputs": [],
   "execution_count": 9
  },
  {
   "metadata": {
    "ExecuteTime": {
     "end_time": "2025-04-08T02:17:21.523951Z",
     "start_time": "2025-04-08T02:17:21.519924Z"
    }
   },
   "cell_type": "code",
   "source": [
    "def estimate_exploitability(agent_cls, br_cls, hands=1000):\n",
    "    # agent_cls is being evaluated, br_cls tries to exploit it\n",
    "    results_as_sb = evaluate_agents(agent_cls, br_cls, num_games=hands // 2)\n",
    "    results_as_bb = evaluate_agents(br_cls, agent_cls, num_games=hands // 2)\n",
    "\n",
    "    losses = []\n",
    "    for (p1_stack, p2_stack) in results_as_sb:\n",
    "        losses.append(10000 - p1_stack)  # agent is SB\n",
    "    for (p1_stack, p2_stack) in results_as_bb:\n",
    "        losses.append(10000 - p2_stack)  # agent is BB\n",
    "\n",
    "    avg_loss = sum(losses) / len(losses)\n",
    "    exploitability_mbb = avg_loss / 10  # 10 = 1bb, so mbb = avg_loss * 1000 / bb\n",
    "    return exploitability_mbb"
   ],
   "id": "a64b5446bc6efcde",
   "outputs": [],
   "execution_count": 17
  },
  {
   "metadata": {
    "ExecuteTime": {
     "end_time": "2025-04-08T02:19:10.674990Z",
     "start_time": "2025-04-08T02:18:00.093841Z"
    }
   },
   "cell_type": "code",
   "source": [
    "from raise_player import RaisedPlayer\n",
    "\n",
    "estimate_exploitability(RaisedPlayer, RaisedPlayer, hands = 30_000)"
   ],
   "id": "61dfab431774091b",
   "outputs": [
    {
     "data": {
      "text/plain": [
       "0.09466666666666666"
      ]
     },
     "execution_count": 21,
     "metadata": {},
     "output_type": "execute_result"
    }
   ],
   "execution_count": 21
  },
  {
   "metadata": {
    "ExecuteTime": {
     "end_time": "2025-04-08T02:20:21.233356Z",
     "start_time": "2025-04-08T02:19:10.744070Z"
    }
   },
   "cell_type": "code",
   "source": [
    "from randomplayer import RandomPlayer\n",
    "\n",
    "estimate_exploitability(RandomPlayer, RandomPlayer, hands = 30_000)"
   ],
   "id": "6c57b903e1f2f00d",
   "outputs": [
    {
     "data": {
      "text/plain": [
       "-0.008666666666666666"
      ]
     },
     "execution_count": 22,
     "metadata": {},
     "output_type": "execute_result"
    }
   ],
   "execution_count": 22
  },
  {
   "metadata": {
    "ExecuteTime": {
     "end_time": "2025-04-08T02:21:11.589265Z",
     "start_time": "2025-04-08T02:20:21.301259Z"
    }
   },
   "cell_type": "code",
   "source": "estimate_exploitability(RandomPlayer, RaisedPlayer, hands = 30_000)",
   "id": "b70bb0c3906b8eac",
   "outputs": [
    {
     "data": {
      "text/plain": [
       "5.381966666666667"
      ]
     },
     "execution_count": 23,
     "metadata": {},
     "output_type": "execute_result"
    }
   ],
   "execution_count": 23
  },
  {
   "metadata": {
    "ExecuteTime": {
     "end_time": "2025-04-08T02:27:23.688869Z",
     "start_time": "2025-04-08T02:27:23.683531Z"
    }
   },
   "cell_type": "code",
   "source": [
    "def play_round(player1_cls: BasePokerPlayer, player2_cls: BasePokerPlayer):\n",
    "    config = setup_config(max_round=1, initial_stack=10000, small_blind_amount=10)\n",
    "    config.register_player(name=\"Player1\", algorithm=player1_cls())\n",
    "    config.register_player(name=\"Player2\", algorithm=player2_cls())\n",
    "\n",
    "    game_result = start_poker(config, verbose=0)\n",
    "    p1_stack = game_result[\"players\"][0][\"stack\"] - 10000\n",
    "    p2_stack = game_result[\"players\"][1][\"stack\"] - 10000\n",
    "\n",
    "    return p1_stack, p2_stack\n",
    "\n",
    "def test_agents(player1_cls: BasePokerPlayer, player2_cls: BasePokerPlayer, num_games: int = 100):\n",
    "    player1_stack_history = []\n",
    "\n",
    "    for i in range(num_games):\n",
    "        if i % 2 == 0:\n",
    "            p1_stack, p2_stack = play_round(player1_cls, player2_cls)\n",
    "        else:\n",
    "            p2_stack, p1_stack = play_round(player2_cls, player1_cls)\n",
    "        player1_stack_history.append(p1_stack)\n",
    "\n",
    "    return player1_stack_history"
   ],
   "id": "a3945cce498493a4",
   "outputs": [],
   "execution_count": 32
  },
  {
   "metadata": {
    "ExecuteTime": {
     "end_time": "2025-04-09T11:02:05.378762Z",
     "start_time": "2025-04-09T11:02:03.617229Z"
    }
   },
   "cell_type": "code",
   "source": [
    "history = test_agents(RaisedPlayer, RandomPlayer, num_games=1_000)\n",
    "history = np.array(history) * 1000 / 20 # convert to mbb\n",
    "cumulative_sum = np.cumsum(history)\n",
    "plt.plot(cumulative_sum)"
   ],
   "id": "b287fbf5010cdebe",
   "outputs": [
    {
     "data": {
      "text/plain": [
       "[<matplotlib.lines.Line2D at 0x115fa89d0>]"
      ]
     },
     "execution_count": 58,
     "metadata": {},
     "output_type": "execute_result"
    },
    {
     "data": {
      "text/plain": [
       "<Figure size 640x480 with 1 Axes>"
      ],
      "image/png": "[encoded data removed]"
     },
     "metadata": {},
     "output_type": "display_data"
    }
   ],
   "execution_count": 58
  },
  {
   "metadata": {
    "ExecuteTime": {
     "end_time": "2025-04-09T11:02:09.455155Z",
     "start_time": "2025-04-09T11:02:09.340841Z"
    }
   },
   "cell_type": "code",
   "source": [
    "avg_change_over_time = cumulative_sum / np.arange(1, len(cumulative_sum) + 1)\n",
    "print(avg_change_over_time[-1])\n",
    "plt.plot(avg_change_over_time)"
   ],
   "id": "1f445fce0ec0998c",
   "outputs": [
    {
     "name": "stdout",
     "output_type": "stream",
     "text": [
      "2612.5\n"
     ]
    },
    {
     "data": {
      "text/plain": [
       "[<matplotlib.lines.Line2D at 0x116021900>]"
      ]
     },
     "execution_count": 59,
     "metadata": {},
     "output_type": "execute_result"
    },
    {
     "data": {
      "text/plain": [
       "<Figure size 640x480 with 1 Axes>"
      ],
      "image/png": "[encoded data removed]"
     },
     "metadata": {},
     "output_type": "display_data"
    }
   ],
   "execution_count": 59
  },
  {
   "metadata": {
    "ExecuteTime": {
     "end_time": "2025-04-09T11:03:06.730810Z",
     "start_time": "2025-04-09T11:03:06.727005Z"
    }
   },
   "cell_type": "code",
   "source": "Card.RANK_MAP",
   "id": "9d0635f4d3516199",
   "outputs": [
    {
     "data": {
      "text/plain": [
       "{2: '2',\n",
       " 3: '3',\n",
       " 4: '4',\n",
       " 5: '5',\n",
       " 6: '6',\n",
       " 7: '7',\n",
       " 8: '8',\n",
       " 9: '9',\n",
       " 10: 'T',\n",
       " 11: 'J',\n",
       " 12: 'Q',\n",
       " 13: 'K',\n",
       " 14: 'A'}"
      ]
     },
     "execution_count": 61,
     "metadata": {},
     "output_type": "execute_result"
    }
   ],
   "execution_count": 61
  },
  {
   "metadata": {
    "ExecuteTime": {
     "end_time": "2025-04-09T11:15:45.247540Z",
     "start_time": "2025-04-09T11:15:45.240915Z"
    }
   },
   "cell_type": "code",
   "source": [
    "RANK_MAP_REVERSE = {v: k for k, v in Card.RANK_MAP.items()}\n",
    "\n",
    "class RuleBasedAgent(TypedPokerPlayer):\n",
    "    @staticmethod\n",
    "    def score_hole_cards(hole: List[str]) -> int:\n",
    "        \"\"\"Assign a numeric score to hole cards with added suited/connector bonuses.\"\"\"\n",
    "        suits = [c[0] for c in hole]\n",
    "        ranks = sorted([RANK_MAP_REVERSE[c[1]] for c in hole], reverse=True)\n",
    "\n",
    "        score = 0\n",
    "\n",
    "        if ranks[0] == ranks[1]:  # Pocket pair\n",
    "            score += 100 + ranks[0]\n",
    "        else:\n",
    "            high, low = ranks\n",
    "            if high >= 11:\n",
    "                score += 40 + high  # High cards\n",
    "            else:\n",
    "                score += 10 + high\n",
    "\n",
    "            if abs(high - low) == 1:\n",
    "                score += 15  # connectors\n",
    "            elif abs(high - low) == 2:\n",
    "                score += 8   # gap connectors\n",
    "\n",
    "            if suits[0] == suits[1]:\n",
    "                score += 12  # suited bonus\n",
    "\n",
    "        return score\n",
    "\n",
    "    def declare_action(self, valid_actions, hole_card, round_state) -> str:\n",
    "        score = self.score_hole_cards(hole_card)\n",
    "        street = round_state[\"street\"]\n",
    "        available = [a[\"action\"] for a in valid_actions]\n",
    "\n",
    "        # --- Preflop Rules ---\n",
    "        if street == \"preflop\":\n",
    "            if score >= 100:\n",
    "                return \"raise\" if \"raise\" in available else \"call\"\n",
    "            elif score >= 70:\n",
    "                return \"call\" if \"call\" in available else \"fold\"\n",
    "            else:\n",
    "                return \"fold\"\n",
    "\n",
    "        # --- Postflop Rules ---\n",
    "        if street in {\"flop\", \"turn\", \"river\"}:\n",
    "            if score >= 90:\n",
    "                return \"raise\" if \"raise\" in available else \"call\"\n",
    "            elif score >= 60:\n",
    "                return \"call\" if \"call\" in available else \"fold\"\n",
    "            else:\n",
    "                return \"fold\"\n",
    "\n",
    "        return \"fold\""
   ],
   "id": "951ca7d6056764e4",
   "outputs": [],
   "execution_count": 65
  },
  {
   "metadata": {
    "ExecuteTime": {
     "end_time": "2025-04-09T11:15:47.221458Z",
     "start_time": "2025-04-09T11:15:46.108323Z"
    }
   },
   "cell_type": "code",
   "source": [
    "history = test_agents(RaisedPlayer, RuleBasedAgent, num_games=1_000)\n",
    "history = np.array(history) * 1000 / 20 # convert to mbb\n",
    "cumulative_sum = np.cumsum(history)\n",
    "plt.plot(cumulative_sum)"
   ],
   "id": "355ca00f898ff148",
   "outputs": [
    {
     "data": {
      "text/plain": [
       "[<matplotlib.lines.Line2D at 0x11628ad70>]"
      ]
     },
     "execution_count": 66,
     "metadata": {},
     "output_type": "execute_result"
    },
    {
     "data": {
      "text/plain": [
       "<Figure size 640x480 with 1 Axes>"
      ],
      "image/png": "[encoded data removed]"
     },
     "metadata": {},
     "output_type": "display_data"
    }
   ],
   "execution_count": 66
  },
  {
   "metadata": {
    "ExecuteTime": {
     "end_time": "2025-04-09T11:15:47.327715Z",
     "start_time": "2025-04-09T11:15:47.285673Z"
    }
   },
   "cell_type": "code",
   "source": [
    "avg_change_over_time = cumulative_sum / np.arange(1, len(cumulative_sum) + 1)\n",
    "print(avg_change_over_time[-1])\n",
    "plt.plot(avg_change_over_time)"
   ],
   "id": "3ddcc9c807bf64ed",
   "outputs": [
    {
     "name": "stdout",
     "output_type": "stream",
     "text": [
      "673.0\n"
     ]
    },
    {
     "data": {
      "text/plain": [
       "[<matplotlib.lines.Line2D at 0x11630bf10>]"
      ]
     },
     "execution_count": 67,
     "metadata": {},
     "output_type": "execute_result"
    },
    {
     "data": {
      "text/plain": [
       "<Figure size 640x480 with 1 Axes>"
      ],
      "image/png": "[encoded data removed]"
     },
     "metadata": {},
     "output_type": "display_data"
    }
   ],
   "execution_count": 67
  },
  {
   "metadata": {},
   "cell_type": "code",
   "outputs": [],
   "execution_count": null,
   "source": "",
   "id": "4cdd22d5ffbfa2f7"
  }
 ],
 "metadata": {
  "kernelspec": {
   "display_name": "Python 3",
   "language": "python",
   "name": "python3"
  },
  "language_info": {
   "codemirror_mode": {
    "name": "ipython",
    "version": 2
   },
   "file_extension": ".py",
   "mimetype": "text/x-python",
   "name": "python",
   "nbconvert_exporter": "python",
   "pygments_lexer": "ipython2",
   "version": "2.7.6"
  }
 },
 "nbformat": 4,
 "nbformat_minor": 5
}
