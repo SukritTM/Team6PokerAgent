{
 "cells": [
  {
   "cell_type": "markdown",
   "id": "bf85bad6",
   "metadata": {},
   "source": [
    "# Trace Through of using the Emulator API"
   ]
  },
  {
   "cell_type": "code",
   "execution_count": 36,
   "id": "4df23474",
   "metadata": {},
   "outputs": [],
   "source": [
    "from pypokerengine.api.emulator import Emulator\n",
    "import numpy as np\n",
    "from raise_player import RaisedPlayer\n",
    "from PPOplayer import PPOPlayer"
   ]
  },
  {
   "cell_type": "code",
   "execution_count": 37,
   "id": "5bdb19b8",
   "metadata": {},
   "outputs": [],
   "source": [
    "emulator = Emulator()\n",
    "raise_player_1 = RaisedPlayer()\n",
    "p1_uuid = \"player1\"\n",
    "\n",
    "ppo_player_2 = RaisedPlayer()\n",
    "ppoplayer_uuid = \"player2\""
   ]
  },
  {
   "cell_type": "code",
   "execution_count": 38,
   "id": "4aebc111",
   "metadata": {},
   "outputs": [],
   "source": [
    "emulator.set_game_rule(player_num=2, max_round=1, small_blind_amount=10, ante_amount=0)\n",
    "emulator.register_player(p1_uuid, raise_player_1)\n",
    "emulator.register_player(ppoplayer_uuid, ppo_player_2)"
   ]
  },
  {
   "cell_type": "code",
   "execution_count": 39,
   "id": "d248f876",
   "metadata": {},
   "outputs": [],
   "source": [
    "players_info = {\n",
    "            p1_uuid: {\"stack\": 1000, \"name\": \"player1\"},\n",
    "            ppoplayer_uuid: {\"stack\": 1000, \"name\": \"ppo_player\"},\n",
    "        }"
   ]
  },
  {
   "cell_type": "code",
   "execution_count": 40,
   "id": "7bab17c6",
   "metadata": {},
   "outputs": [
    {
     "name": "stdout",
     "output_type": "stream",
     "text": [
      "{'round_count': 0, 'small_blind_amount': 10, 'street': 0, 'next_player': None, 'table': <pypokerengine.engine.table.Table object at 0x159705b80>}\n"
     ]
    }
   ],
   "source": [
    "init_state = emulator.generate_initial_game_state(players_info)\n",
    "print(init_state)"
   ]
  },
  {
   "cell_type": "code",
   "execution_count": 42,
   "id": "1d9c89b9",
   "metadata": {},
   "outputs": [],
   "source": [
    "RANKS = ['2', '3', '4', '5', '6', '7', '8', '9', 'T', 'J', 'Q', 'K', 'A'] # These are straightforward\n",
    "SUITS = ['S', 'H', 'D', 'C'] # Spades, Hearts, Diamonds, Clubs\n",
    "\n",
    "def state_to_observation(hole_card, round_state, valid_actions):\n",
    "        # Helper function to convert cards to one-hot encoding\n",
    "        def one_hot_52(cards):\n",
    "            vec = np.zeros(52, dtype=np.float32)\n",
    "            # Handle None case\n",
    "            if cards is None:\n",
    "                return vec\n",
    "            for c in cards:\n",
    "                if not isinstance(c, str) or len(c) != 2:\n",
    "                    continue  # skip cards with issues\n",
    "                suit = c[0].upper()\n",
    "                rank = c[1].upper()\n",
    "                if rank in RANKS and suit in SUITS:\n",
    "                    idx = SUITS.index(suit) * 13 + RANKS.index(rank)\n",
    "                    vec[idx] = 1.0\n",
    "            return vec\n",
    "\n",
    "        # Extract game state information\n",
    "        community = round_state[\"community_card\"]\n",
    "        next_player_pos = round_state[\"next_player\"]\n",
    "        \n",
    "        # Determine who the current player is (agent) and opponent\n",
    "        agent_seat = round_state[\"seats\"][next_player_pos]\n",
    "        agent_uuid = agent_seat[\"uuid\"]\n",
    "        \n",
    "        # Find opponent seat\n",
    "        opponent_seat = next(s for s in round_state[\"seats\"] if s[\"uuid\"] != agent_uuid)\n",
    "        \n",
    "        # Extract stack sizes\n",
    "        agent_stack = agent_seat[\"stack\"]\n",
    "        opponent_stack = opponent_seat[\"stack\"]\n",
    "    \n",
    "        \n",
    "        street = round_state[\"street\"].lower()\n",
    "        \n",
    "        # Extract pot size, assuming that there is no side \n",
    "        pot_amount = round_state[\"pot\"][\"main\"][\"amount\"]\n",
    "        \n",
    "        # Determine if current player is small blind\n",
    "        sb_pos = round_state.get(\"small_blind_pos\")\n",
    "        sb_flag = 1.0 if next_player_pos == sb_pos else 0.0\n",
    "        \n",
    "        # Encode the street (one-hot)\n",
    "        street_vec = np.zeros(4, dtype=np.float32)\n",
    "        street_idx = {\"preflop\": 0, \"flop\": 1, \"turn\": 2, \"river\": 3}.get(street, 0)\n",
    "        street_vec[street_idx] = 1.0\n",
    "        \n",
    "        def to_call_flag(agent_uuid: str, rs: dict) -> float:\n",
    "            street = rs[\"street\"].lower()\n",
    "            hist   = rs[\"action_histories\"][street]\n",
    "            current_bet = max((h[\"amount\"] for h in hist), default=0)\n",
    "            your_bet    = max((h[\"amount\"] for h in hist if h[\"uuid\"] == agent_uuid),\n",
    "                          default=0)\n",
    "            return 1.0 if current_bet > your_bet else 0.0\n",
    "\n",
    "        call_cost_flag = to_call_flag(agent_uuid, round_state)  # 0 or 1\n",
    "\n",
    "        can_raise = 1.0 if any(d['action'] == 'raise' for d in valid_actions) else 0.0\n",
    "\n",
    "        initial_stack = 1000\n",
    "\n",
    "        obs = np.concatenate([\n",
    "            one_hot_52(hole_card),                  # 0-51\n",
    "            one_hot_52(community),                  # 52-103\n",
    "            np.array([\n",
    "                agent_stack   / initial_stack, # 104\n",
    "                opponent_stack/ initial_stack, # 105\n",
    "                pot_amount    / (2*initial_stack),  # 106\n",
    "                sb_flag                                   # 107\n",
    "            ], dtype=np.float32),\n",
    "            street_vec,                             # 108-111\n",
    "            np.array([\n",
    "                can_raise,          # 112\n",
    "                call_cost_flag      # 113  ← NEW bit\n",
    "            ], dtype=np.float32)\n",
    "        ])\n",
    "        \n",
    "        return obs.astype(np.float32)"
   ]
  },
  {
   "cell_type": "code",
   "execution_count": 43,
   "id": "eeb1f428",
   "metadata": {},
   "outputs": [
    {
     "name": "stdout",
     "output_type": "stream",
     "text": [
      "New state: {'round_count': 1, 'small_blind_amount': 10, 'street': 0, 'next_player': 1, 'table': <pypokerengine.engine.table.Table object at 0x159705880>} \n",
      "\n",
      "Num Events: 2 \n",
      "\n",
      "1st Event: {'type': 'event_new_street', 'street': 'preflop', 'round_state': {'street': 'preflop', 'pot': {'main': {'amount': 30}, 'side': []}, 'community_card': [], 'dealer_btn': 0, 'next_player': 1, 'small_blind_pos': 1, 'big_blind_pos': 0, 'round_count': 1, 'small_blind_amount': 10, 'seats': [{'name': 'player1', 'uuid': 'player1', 'stack': 980, 'state': 'participating'}, {'name': 'ppo_player', 'uuid': 'player2', 'stack': 990, 'state': 'participating'}], 'action_histories': {'preflop': [{'action': 'SMALLBLIND', 'amount': 10, 'add_amount': 10, 'uuid': 'player2'}, {'action': 'BIGBLIND', 'amount': 20, 'add_amount': 10, 'uuid': 'player1'}]}}} \n",
      "\n",
      "2nd Event: {'type': 'event_ask_player', 'uuid': 'player2', 'valid_actions': [{'action': 'fold'}, {'action': 'call'}, {'action': 'raise'}], 'round_state': {'street': 'preflop', 'pot': {'main': {'amount': 30}, 'side': []}, 'community_card': [], 'dealer_btn': 0, 'next_player': 1, 'small_blind_pos': 1, 'big_blind_pos': 0, 'round_count': 1, 'small_blind_amount': 10, 'seats': [{'name': 'player1', 'uuid': 'player1', 'stack': 980, 'state': 'participating'}, {'name': 'ppo_player', 'uuid': 'player2', 'stack': 990, 'state': 'participating'}], 'action_histories': {'preflop': [{'action': 'SMALLBLIND', 'amount': 10, 'add_amount': 10, 'uuid': 'player2'}, {'action': 'BIGBLIND', 'amount': 20, 'add_amount': 10, 'uuid': 'player1'}]}}} \n",
      "\n"
     ]
    }
   ],
   "source": [
    "new_state, events = emulator.start_new_round(init_state)\n",
    "print(f\"New state: {new_state} \\n\")\n",
    "print(f\"Num Events: {len(events)} \\n\")\n",
    "print(f\"1st Event: {events[0]} \\n\")\n",
    "print(f\"2nd Event: {events[1]} \\n\")"
   ]
  },
  {
   "cell_type": "code",
   "execution_count": 44,
   "id": "ac46ce98",
   "metadata": {},
   "outputs": [
    {
     "name": "stdout",
     "output_type": "stream",
     "text": [
      "round state: {'street': 'preflop', 'pot': {'main': {'amount': 30}, 'side': []}, 'community_card': [], 'dealer_btn': 0, 'next_player': 1, 'small_blind_pos': 1, 'big_blind_pos': 0, 'round_count': 1, 'small_blind_amount': 10, 'seats': [{'name': 'player1', 'uuid': 'player1', 'stack': 980, 'state': 'participating'}, {'name': 'ppo_player', 'uuid': 'player2', 'stack': 990, 'state': 'participating'}], 'action_histories': {'preflop': [{'action': 'SMALLBLIND', 'amount': 10, 'add_amount': 10, 'uuid': 'player2'}, {'action': 'BIGBLIND', 'amount': 20, 'add_amount': 10, 'uuid': 'player1'}]}}\n",
      "Next player uuid: player2\n",
      "hole_cards: ['H6', 'HA']\n",
      "valid actions: [{'action': 'fold'}, {'action': 'call'}, {'action': 'raise'}]\n"
     ]
    }
   ],
   "source": [
    "round_state = events[1][\"round_state\"]\n",
    "print(f\"round state: {round_state}\")\n",
    "curr_player_uuid = events[1][\"uuid\"]\n",
    "print(f\"Next player uuid: {curr_player_uuid}\")\n",
    "hole_cards = emulator.get_hole_cards(new_state)\n",
    "print(f\"hole_cards: {hole_cards}\")\n",
    "valid_actions = events[1][\"valid_actions\"]\n",
    "print(f\"valid actions: {valid_actions}\")"
   ]
  },
  {
   "cell_type": "code",
   "execution_count": 45,
   "id": "0507ecbb",
   "metadata": {},
   "outputs": [
    {
     "data": {
      "text/plain": [
       "array([0.   , 0.   , 0.   , 0.   , 0.   , 0.   , 0.   , 0.   , 0.   ,\n",
       "       0.   , 0.   , 0.   , 0.   , 0.   , 0.   , 0.   , 0.   , 1.   ,\n",
       "       0.   , 0.   , 0.   , 0.   , 0.   , 0.   , 0.   , 1.   , 0.   ,\n",
       "       0.   , 0.   , 0.   , 0.   , 0.   , 0.   , 0.   , 0.   , 0.   ,\n",
       "       0.   , 0.   , 0.   , 0.   , 0.   , 0.   , 0.   , 0.   , 0.   ,\n",
       "       0.   , 0.   , 0.   , 0.   , 0.   , 0.   , 0.   , 0.   , 0.   ,\n",
       "       0.   , 0.   , 0.   , 0.   , 0.   , 0.   , 0.   , 0.   , 0.   ,\n",
       "       0.   , 0.   , 0.   , 0.   , 0.   , 0.   , 0.   , 0.   , 0.   ,\n",
       "       0.   , 0.   , 0.   , 0.   , 0.   , 0.   , 0.   , 0.   , 0.   ,\n",
       "       0.   , 0.   , 0.   , 0.   , 0.   , 0.   , 0.   , 0.   , 0.   ,\n",
       "       0.   , 0.   , 0.   , 0.   , 0.   , 0.   , 0.   , 0.   , 0.   ,\n",
       "       0.   , 0.   , 0.   , 0.   , 0.   , 0.99 , 0.98 , 0.015, 1.   ,\n",
       "       1.   , 0.   , 0.   , 0.   , 1.   , 1.   ], dtype=float32)"
      ]
     },
     "execution_count": 45,
     "metadata": {},
     "output_type": "execute_result"
    }
   ],
   "source": [
    "state_to_observation(hole_cards, round_state, valid_actions)"
   ]
  },
  {
   "cell_type": "code",
   "execution_count": 46,
   "id": "daa20304",
   "metadata": {},
   "outputs": [
    {
     "name": "stdout",
     "output_type": "stream",
     "text": [
      "raise\n"
     ]
    }
   ],
   "source": [
    "curr_player = emulator.fetch_player(curr_player_uuid)\n",
    "action = curr_player.declare_action(valid_actions, hole_cards, round_state)\n",
    "print(action)"
   ]
  },
  {
   "cell_type": "code",
   "execution_count": 47,
   "id": "c08ca05f",
   "metadata": {},
   "outputs": [],
   "source": [
    "updated_state, events = emulator.apply_action(new_state, action)"
   ]
  },
  {
   "cell_type": "code",
   "execution_count": 48,
   "id": "a49e2bbb",
   "metadata": {},
   "outputs": [
    {
     "name": "stdout",
     "output_type": "stream",
     "text": [
      "New state: {'round_count': 1, 'small_blind_amount': 10, 'street': 0, 'next_player': 0, 'table': <pypokerengine.engine.table.Table object at 0x159706210>} \n",
      "\n",
      "Events: [{'type': 'event_ask_player', 'uuid': 'player1', 'valid_actions': [{'action': 'fold'}, {'action': 'call'}, {'action': 'raise'}], 'round_state': {'street': 'preflop', 'pot': {'main': {'amount': 60}, 'side': []}, 'community_card': [], 'dealer_btn': 0, 'next_player': 0, 'small_blind_pos': 1, 'big_blind_pos': 0, 'round_count': 1, 'small_blind_amount': 10, 'seats': [{'name': 'player1', 'uuid': 'player1', 'stack': 980, 'state': 'participating'}, {'name': 'ppo_player', 'uuid': 'player2', 'stack': 960, 'state': 'participating'}], 'action_histories': {'preflop': [{'action': 'SMALLBLIND', 'amount': 10, 'add_amount': 10, 'uuid': 'player2'}, {'action': 'BIGBLIND', 'amount': 20, 'add_amount': 10, 'uuid': 'player1'}, {'action': 'RAISE', 'amount': 40, 'paid': 30, 'add_amount': 20, 'uuid': 'player2'}]}}}] \n",
      "\n",
      "\n"
     ]
    }
   ],
   "source": [
    "print(f\"New state: {updated_state} \\n\")\n",
    "print(f\"Events: {events} \\n\")\n",
    "print()"
   ]
  },
  {
   "cell_type": "code",
   "execution_count": 49,
   "id": "656d0768",
   "metadata": {},
   "outputs": [
    {
     "name": "stdout",
     "output_type": "stream",
     "text": [
      "round state: {'street': 'preflop', 'pot': {'main': {'amount': 60}, 'side': []}, 'community_card': [], 'dealer_btn': 0, 'next_player': 0, 'small_blind_pos': 1, 'big_blind_pos': 0, 'round_count': 1, 'small_blind_amount': 10, 'seats': [{'name': 'player1', 'uuid': 'player1', 'stack': 980, 'state': 'participating'}, {'name': 'ppo_player', 'uuid': 'player2', 'stack': 960, 'state': 'participating'}], 'action_histories': {'preflop': [{'action': 'SMALLBLIND', 'amount': 10, 'add_amount': 10, 'uuid': 'player2'}, {'action': 'BIGBLIND', 'amount': 20, 'add_amount': 10, 'uuid': 'player1'}, {'action': 'RAISE', 'amount': 40, 'paid': 30, 'add_amount': 20, 'uuid': 'player2'}]}}\n",
      "Next player uuid: player1\n",
      "hole_cards: ['S6', 'CQ']\n",
      "valid actions: [{'action': 'fold'}, {'action': 'call'}, {'action': 'raise'}]\n"
     ]
    }
   ],
   "source": [
    "round_state = events[0][\"round_state\"]\n",
    "print(f\"round state: {round_state}\")\n",
    "curr_player_uuid = events[0][\"uuid\"]\n",
    "print(f\"Next player uuid: {curr_player_uuid}\")\n",
    "hole_cards = emulator.get_hole_cards(updated_state)\n",
    "print(f\"hole_cards: {hole_cards}\")\n",
    "valid_actions = events[0][\"valid_actions\"]\n",
    "print(f\"valid actions: {valid_actions}\")"
   ]
  },
  {
   "cell_type": "code",
   "execution_count": 50,
   "id": "813a6ccf",
   "metadata": {},
   "outputs": [
    {
     "name": "stdout",
     "output_type": "stream",
     "text": [
      "raise\n"
     ]
    }
   ],
   "source": [
    "curr_player = emulator.fetch_player(curr_player_uuid)\n",
    "action = curr_player.declare_action(valid_actions, hole_cards, round_state)\n",
    "print(action)"
   ]
  },
  {
   "cell_type": "code",
   "execution_count": 51,
   "id": "5e9697f2",
   "metadata": {},
   "outputs": [
    {
     "data": {
      "text/plain": [
       "array([0.  , 0.  , 0.  , 0.  , 1.  , 0.  , 0.  , 0.  , 0.  , 0.  , 0.  ,\n",
       "       0.  , 0.  , 0.  , 0.  , 0.  , 0.  , 0.  , 0.  , 0.  , 0.  , 0.  ,\n",
       "       0.  , 0.  , 0.  , 0.  , 0.  , 0.  , 0.  , 0.  , 0.  , 0.  , 0.  ,\n",
       "       0.  , 0.  , 0.  , 0.  , 0.  , 0.  , 0.  , 0.  , 0.  , 0.  , 0.  ,\n",
       "       0.  , 0.  , 0.  , 0.  , 0.  , 1.  , 0.  , 0.  , 0.  , 0.  , 0.  ,\n",
       "       0.  , 0.  , 0.  , 0.  , 0.  , 0.  , 0.  , 0.  , 0.  , 0.  , 0.  ,\n",
       "       0.  , 0.  , 0.  , 0.  , 0.  , 0.  , 0.  , 0.  , 0.  , 0.  , 0.  ,\n",
       "       0.  , 0.  , 0.  , 0.  , 0.  , 0.  , 0.  , 0.  , 0.  , 0.  , 0.  ,\n",
       "       0.  , 0.  , 0.  , 0.  , 0.  , 0.  , 0.  , 0.  , 0.  , 0.  , 0.  ,\n",
       "       0.  , 0.  , 0.  , 0.  , 0.  , 0.98, 0.96, 0.03, 0.  , 1.  , 0.  ,\n",
       "       0.  , 0.  , 1.  , 1.  ], dtype=float32)"
      ]
     },
     "execution_count": 51,
     "metadata": {},
     "output_type": "execute_result"
    }
   ],
   "source": [
    "state_to_observation(hole_cards, round_state, valid_actions)"
   ]
  },
  {
   "cell_type": "code",
   "execution_count": 52,
   "id": "76d05e2d",
   "metadata": {},
   "outputs": [],
   "source": [
    "updated_state, events = emulator.apply_action(updated_state, \"call\")"
   ]
  },
  {
   "cell_type": "code",
   "execution_count": 53,
   "id": "a10037cf",
   "metadata": {},
   "outputs": [
    {
     "name": "stdout",
     "output_type": "stream",
     "text": [
      "New state: {'round_count': 1, 'small_blind_amount': 10, 'street': 1, 'next_player': 1, 'table': <pypokerengine.engine.table.Table object at 0x15978a5d0>} \n",
      "\n",
      "Events: [{'type': 'event_new_street', 'street': 'flop', 'round_state': {'street': 'flop', 'pot': {'main': {'amount': 80}, 'side': []}, 'community_card': ['H9', 'S5', 'C5'], 'dealer_btn': 0, 'next_player': 1, 'small_blind_pos': 1, 'big_blind_pos': 0, 'round_count': 1, 'small_blind_amount': 10, 'seats': [{'name': 'player1', 'uuid': 'player1', 'stack': 960, 'state': 'participating'}, {'name': 'ppo_player', 'uuid': 'player2', 'stack': 960, 'state': 'participating'}], 'action_histories': {'preflop': [{'action': 'SMALLBLIND', 'amount': 10, 'add_amount': 10, 'uuid': 'player2'}, {'action': 'BIGBLIND', 'amount': 20, 'add_amount': 10, 'uuid': 'player1'}, {'action': 'RAISE', 'amount': 40, 'paid': 30, 'add_amount': 20, 'uuid': 'player2'}, {'action': 'CALL', 'amount': 40, 'paid': 20, 'uuid': 'player1'}], 'flop': []}}}, {'type': 'event_ask_player', 'uuid': 'player2', 'valid_actions': [{'action': 'fold'}, {'action': 'call'}, {'action': 'raise'}], 'round_state': {'street': 'flop', 'pot': {'main': {'amount': 80}, 'side': []}, 'community_card': ['H9', 'S5', 'C5'], 'dealer_btn': 0, 'next_player': 1, 'small_blind_pos': 1, 'big_blind_pos': 0, 'round_count': 1, 'small_blind_amount': 10, 'seats': [{'name': 'player1', 'uuid': 'player1', 'stack': 960, 'state': 'participating'}, {'name': 'ppo_player', 'uuid': 'player2', 'stack': 960, 'state': 'participating'}], 'action_histories': {'preflop': [{'action': 'SMALLBLIND', 'amount': 10, 'add_amount': 10, 'uuid': 'player2'}, {'action': 'BIGBLIND', 'amount': 20, 'add_amount': 10, 'uuid': 'player1'}, {'action': 'RAISE', 'amount': 40, 'paid': 30, 'add_amount': 20, 'uuid': 'player2'}, {'action': 'CALL', 'amount': 40, 'paid': 20, 'uuid': 'player1'}], 'flop': []}}}] \n",
      "\n"
     ]
    }
   ],
   "source": [
    "print(f\"New state: {updated_state} \\n\")\n",
    "print(f\"Events: {events} \\n\")"
   ]
  },
  {
   "cell_type": "code",
   "execution_count": 55,
   "id": "3c0e4445",
   "metadata": {},
   "outputs": [
    {
     "name": "stdout",
     "output_type": "stream",
     "text": [
      "round state: {'street': 'flop', 'pot': {'main': {'amount': 80}, 'side': []}, 'community_card': ['H9', 'S5', 'C5'], 'dealer_btn': 0, 'next_player': 1, 'small_blind_pos': 1, 'big_blind_pos': 0, 'round_count': 1, 'small_blind_amount': 10, 'seats': [{'name': 'player1', 'uuid': 'player1', 'stack': 960, 'state': 'participating'}, {'name': 'ppo_player', 'uuid': 'player2', 'stack': 960, 'state': 'participating'}], 'action_histories': {'preflop': [{'action': 'SMALLBLIND', 'amount': 10, 'add_amount': 10, 'uuid': 'player2'}, {'action': 'BIGBLIND', 'amount': 20, 'add_amount': 10, 'uuid': 'player1'}, {'action': 'RAISE', 'amount': 40, 'paid': 30, 'add_amount': 20, 'uuid': 'player2'}, {'action': 'CALL', 'amount': 40, 'paid': 20, 'uuid': 'player1'}], 'flop': []}}\n",
      "Next player uuid: player2\n",
      "hole_cards: ['H6', 'HA']\n",
      "valid actions: [{'action': 'fold'}, {'action': 'call'}, {'action': 'raise'}]\n"
     ]
    }
   ],
   "source": [
    "round_state = events[1][\"round_state\"]\n",
    "print(f\"round state: {round_state}\")\n",
    "curr_player_uuid = events[1][\"uuid\"]\n",
    "print(f\"Next player uuid: {curr_player_uuid}\")\n",
    "hole_cards = emulator.get_hole_cards(updated_state)\n",
    "print(f\"hole_cards: {hole_cards}\")\n",
    "valid_actions = events[1][\"valid_actions\"]\n",
    "print(f\"valid actions: {valid_actions}\")"
   ]
  },
  {
   "cell_type": "code",
   "execution_count": 56,
   "id": "854896bc",
   "metadata": {},
   "outputs": [
    {
     "name": "stdout",
     "output_type": "stream",
     "text": [
      "raise\n"
     ]
    }
   ],
   "source": [
    "curr_player = emulator.fetch_player(curr_player_uuid)\n",
    "action = curr_player.declare_action(valid_actions, hole_cards, round_state)\n",
    "print(action)"
   ]
  },
  {
   "cell_type": "code",
   "execution_count": 57,
   "id": "0218b3ac",
   "metadata": {},
   "outputs": [
    {
     "data": {
      "text/plain": [
       "array([0.  , 0.  , 0.  , 0.  , 0.  , 0.  , 0.  , 0.  , 0.  , 0.  , 0.  ,\n",
       "       0.  , 0.  , 0.  , 0.  , 0.  , 0.  , 1.  , 0.  , 0.  , 0.  , 0.  ,\n",
       "       0.  , 0.  , 0.  , 1.  , 0.  , 0.  , 0.  , 0.  , 0.  , 0.  , 0.  ,\n",
       "       0.  , 0.  , 0.  , 0.  , 0.  , 0.  , 0.  , 0.  , 0.  , 0.  , 0.  ,\n",
       "       0.  , 0.  , 0.  , 0.  , 0.  , 0.  , 0.  , 0.  , 0.  , 0.  , 0.  ,\n",
       "       1.  , 0.  , 0.  , 0.  , 0.  , 0.  , 0.  , 0.  , 0.  , 0.  , 0.  ,\n",
       "       0.  , 0.  , 0.  , 0.  , 0.  , 0.  , 1.  , 0.  , 0.  , 0.  , 0.  ,\n",
       "       0.  , 0.  , 0.  , 0.  , 0.  , 0.  , 0.  , 0.  , 0.  , 0.  , 0.  ,\n",
       "       0.  , 0.  , 0.  , 0.  , 0.  , 0.  , 1.  , 0.  , 0.  , 0.  , 0.  ,\n",
       "       0.  , 0.  , 0.  , 0.  , 0.  , 0.96, 0.96, 0.04, 1.  , 0.  , 1.  ,\n",
       "       0.  , 0.  , 1.  , 0.  ], dtype=float32)"
      ]
     },
     "execution_count": 57,
     "metadata": {},
     "output_type": "execute_result"
    }
   ],
   "source": [
    "state_to_observation(hole_cards, round_state, valid_actions)"
   ]
  },
  {
   "cell_type": "code",
   "execution_count": 21,
   "id": "49477c51",
   "metadata": {},
   "outputs": [],
   "source": [
    "updated_state, events = emulator.apply_action(updated_state, action)"
   ]
  },
  {
   "cell_type": "code",
   "execution_count": 22,
   "id": "ca214a5d",
   "metadata": {},
   "outputs": [
    {
     "name": "stdout",
     "output_type": "stream",
     "text": [
      "New state: {'round_count': 1, 'small_blind_amount': 10, 'street': 0, 'next_player': 0, 'table': <pypokerengine.engine.table.Table object at 0x1596b9370>} \n",
      "\n",
      "Events: [{'type': 'event_ask_player', 'uuid': 'player1', 'valid_actions': [{'action': 'fold'}, {'action': 'call'}], 'round_state': {'street': 'preflop', 'pot': {'main': {'amount': 140}, 'side': []}, 'community_card': [], 'dealer_btn': 0, 'next_player': 0, 'small_blind_pos': 1, 'big_blind_pos': 0, 'round_count': 1, 'small_blind_amount': 10, 'seats': [{'name': 'player1', 'uuid': 'player1', 'stack': 940, 'state': 'participating'}, {'name': 'ppo_player', 'uuid': 'player2', 'stack': 920, 'state': 'participating'}], 'action_histories': {'preflop': [{'action': 'SMALLBLIND', 'amount': 10, 'add_amount': 10, 'uuid': 'player2'}, {'action': 'BIGBLIND', 'amount': 20, 'add_amount': 10, 'uuid': 'player1'}, {'action': 'RAISE', 'amount': 40, 'paid': 30, 'add_amount': 20, 'uuid': 'player2'}, {'action': 'RAISE', 'amount': 60, 'paid': 40, 'add_amount': 20, 'uuid': 'player1'}, {'action': 'RAISE', 'amount': 80, 'paid': 40, 'add_amount': 20, 'uuid': 'player2'}]}}}] \n",
      "\n"
     ]
    }
   ],
   "source": [
    "print(f\"New state: {updated_state} \\n\")\n",
    "print(f\"Events: {events} \\n\")"
   ]
  },
  {
   "cell_type": "code",
   "execution_count": 23,
   "id": "aeba9989",
   "metadata": {},
   "outputs": [
    {
     "name": "stdout",
     "output_type": "stream",
     "text": [
      "round state: {'street': 'preflop', 'pot': {'main': {'amount': 140}, 'side': []}, 'community_card': [], 'dealer_btn': 0, 'next_player': 0, 'small_blind_pos': 1, 'big_blind_pos': 0, 'round_count': 1, 'small_blind_amount': 10, 'seats': [{'name': 'player1', 'uuid': 'player1', 'stack': 940, 'state': 'participating'}, {'name': 'ppo_player', 'uuid': 'player2', 'stack': 920, 'state': 'participating'}], 'action_histories': {'preflop': [{'action': 'SMALLBLIND', 'amount': 10, 'add_amount': 10, 'uuid': 'player2'}, {'action': 'BIGBLIND', 'amount': 20, 'add_amount': 10, 'uuid': 'player1'}, {'action': 'RAISE', 'amount': 40, 'paid': 30, 'add_amount': 20, 'uuid': 'player2'}, {'action': 'RAISE', 'amount': 60, 'paid': 40, 'add_amount': 20, 'uuid': 'player1'}, {'action': 'RAISE', 'amount': 80, 'paid': 40, 'add_amount': 20, 'uuid': 'player2'}]}}\n",
      "Next player uuid: player1\n",
      "hole_cards: ['DT', 'DQ']\n",
      "valid actions: [{'action': 'fold'}, {'action': 'call'}]\n"
     ]
    }
   ],
   "source": [
    "round_state = events[0][\"round_state\"]\n",
    "print(f\"round state: {round_state}\")\n",
    "curr_player_uuid = events[0][\"uuid\"]\n",
    "print(f\"Next player uuid: {curr_player_uuid}\")\n",
    "hole_cards = emulator.get_hole_cards(updated_state)\n",
    "print(f\"hole_cards: {hole_cards}\")\n",
    "valid_actions = events[0][\"valid_actions\"]\n",
    "print(f\"valid actions: {valid_actions}\")"
   ]
  },
  {
   "cell_type": "code",
   "execution_count": 24,
   "id": "b62052d6",
   "metadata": {},
   "outputs": [
    {
     "data": {
      "text/plain": [
       "array([0.  , 0.  , 0.  , 0.  , 0.  , 0.  , 0.  , 0.  , 0.  , 0.  , 0.  ,\n",
       "       0.  , 0.  , 0.  , 0.  , 0.  , 0.  , 0.  , 0.  , 0.  , 0.  , 0.  ,\n",
       "       0.  , 0.  , 0.  , 0.  , 0.  , 0.  , 0.  , 0.  , 0.  , 0.  , 0.  ,\n",
       "       0.  , 1.  , 0.  , 1.  , 0.  , 0.  , 0.  , 0.  , 0.  , 0.  , 0.  ,\n",
       "       0.  , 0.  , 0.  , 0.  , 0.  , 0.  , 0.  , 0.  , 0.  , 0.  , 0.  ,\n",
       "       0.  , 0.  , 0.  , 0.  , 0.  , 0.  , 0.  , 0.  , 0.  , 0.  , 0.  ,\n",
       "       0.  , 0.  , 0.  , 0.  , 0.  , 0.  , 0.  , 0.  , 0.  , 0.  , 0.  ,\n",
       "       0.  , 0.  , 0.  , 0.  , 0.  , 0.  , 0.  , 0.  , 0.  , 0.  , 0.  ,\n",
       "       0.  , 0.  , 0.  , 0.  , 0.  , 0.  , 0.  , 0.  , 0.  , 0.  , 0.  ,\n",
       "       0.  , 0.  , 0.  , 0.  , 0.  , 0.94, 0.92, 0.07, 0.  , 1.  , 0.  ,\n",
       "       0.  , 0.  , 0.  ], dtype=float32)"
      ]
     },
     "execution_count": 24,
     "metadata": {},
     "output_type": "execute_result"
    }
   ],
   "source": [
    "state_to_observation(hole_cards, round_state, valid_actions)"
   ]
  },
  {
   "cell_type": "code",
   "execution_count": 25,
   "id": "9bdcaed0",
   "metadata": {},
   "outputs": [],
   "source": [
    "updated_state, events = emulator.apply_action(updated_state, action)"
   ]
  },
  {
   "cell_type": "code",
   "execution_count": 26,
   "id": "445aacd8",
   "metadata": {},
   "outputs": [
    {
     "name": "stdout",
     "output_type": "stream",
     "text": [
      "New state: {'round_count': 1, 'small_blind_amount': 10, 'street': 0, 'next_player': 1, 'table': <pypokerengine.engine.table.Table object at 0x1596b8bc0>} \n",
      "\n",
      "Events: [{'type': 'event_ask_player', 'uuid': 'player2', 'valid_actions': [{'action': 'fold'}, {'action': 'call'}], 'round_state': {'street': 'preflop', 'pot': {'main': {'amount': 180}, 'side': []}, 'community_card': [], 'dealer_btn': 0, 'next_player': 1, 'small_blind_pos': 1, 'big_blind_pos': 0, 'round_count': 1, 'small_blind_amount': 10, 'seats': [{'name': 'player1', 'uuid': 'player1', 'stack': 900, 'state': 'participating'}, {'name': 'ppo_player', 'uuid': 'player2', 'stack': 920, 'state': 'participating'}], 'action_histories': {'preflop': [{'action': 'SMALLBLIND', 'amount': 10, 'add_amount': 10, 'uuid': 'player2'}, {'action': 'BIGBLIND', 'amount': 20, 'add_amount': 10, 'uuid': 'player1'}, {'action': 'RAISE', 'amount': 40, 'paid': 30, 'add_amount': 20, 'uuid': 'player2'}, {'action': 'RAISE', 'amount': 60, 'paid': 40, 'add_amount': 20, 'uuid': 'player1'}, {'action': 'RAISE', 'amount': 80, 'paid': 40, 'add_amount': 20, 'uuid': 'player2'}, {'action': 'RAISE', 'amount': 100, 'paid': 40, 'add_amount': 20, 'uuid': 'player1'}]}}}] \n",
      "\n",
      "round state: {'street': 'preflop', 'pot': {'main': {'amount': 180}, 'side': []}, 'community_card': [], 'dealer_btn': 0, 'next_player': 1, 'small_blind_pos': 1, 'big_blind_pos': 0, 'round_count': 1, 'small_blind_amount': 10, 'seats': [{'name': 'player1', 'uuid': 'player1', 'stack': 900, 'state': 'participating'}, {'name': 'ppo_player', 'uuid': 'player2', 'stack': 920, 'state': 'participating'}], 'action_histories': {'preflop': [{'action': 'SMALLBLIND', 'amount': 10, 'add_amount': 10, 'uuid': 'player2'}, {'action': 'BIGBLIND', 'amount': 20, 'add_amount': 10, 'uuid': 'player1'}, {'action': 'RAISE', 'amount': 40, 'paid': 30, 'add_amount': 20, 'uuid': 'player2'}, {'action': 'RAISE', 'amount': 60, 'paid': 40, 'add_amount': 20, 'uuid': 'player1'}, {'action': 'RAISE', 'amount': 80, 'paid': 40, 'add_amount': 20, 'uuid': 'player2'}, {'action': 'RAISE', 'amount': 100, 'paid': 40, 'add_amount': 20, 'uuid': 'player1'}]}}\n",
      "Next player uuid: player2\n",
      "hole_cards: ['SQ', 'D8']\n",
      "valid actions: [{'action': 'fold'}, {'action': 'call'}]\n"
     ]
    }
   ],
   "source": [
    "print(f\"New state: {updated_state} \\n\")\n",
    "print(f\"Events: {events} \\n\")\n",
    "\n",
    "round_state = events[0][\"round_state\"]\n",
    "print(f\"round state: {round_state}\")\n",
    "curr_player_uuid = events[0][\"uuid\"]\n",
    "print(f\"Next player uuid: {curr_player_uuid}\")\n",
    "hole_cards = emulator.get_hole_cards(updated_state)\n",
    "print(f\"hole_cards: {hole_cards}\")\n",
    "valid_actions = events[0][\"valid_actions\"]\n",
    "print(f\"valid actions: {valid_actions}\")"
   ]
  },
  {
   "cell_type": "code",
   "execution_count": 27,
   "id": "66cbd86c",
   "metadata": {},
   "outputs": [
    {
     "name": "stdout",
     "output_type": "stream",
     "text": [
      "call\n"
     ]
    }
   ],
   "source": [
    "curr_player = emulator.fetch_player(curr_player_uuid)\n",
    "action = curr_player.declare_action(valid_actions, hole_cards, round_state)\n",
    "print(action)"
   ]
  },
  {
   "cell_type": "code",
   "execution_count": 28,
   "id": "2e3b564f",
   "metadata": {},
   "outputs": [
    {
     "data": {
      "text/plain": [
       "array([0.  , 0.  , 0.  , 0.  , 0.  , 0.  , 0.  , 0.  , 0.  , 0.  , 1.  ,\n",
       "       0.  , 0.  , 0.  , 0.  , 0.  , 0.  , 0.  , 0.  , 0.  , 0.  , 0.  ,\n",
       "       0.  , 0.  , 0.  , 0.  , 0.  , 0.  , 0.  , 0.  , 0.  , 0.  , 1.  ,\n",
       "       0.  , 0.  , 0.  , 0.  , 0.  , 0.  , 0.  , 0.  , 0.  , 0.  , 0.  ,\n",
       "       0.  , 0.  , 0.  , 0.  , 0.  , 0.  , 0.  , 0.  , 0.  , 0.  , 0.  ,\n",
       "       0.  , 0.  , 0.  , 0.  , 0.  , 0.  , 0.  , 0.  , 0.  , 0.  , 0.  ,\n",
       "       0.  , 0.  , 0.  , 0.  , 0.  , 0.  , 0.  , 0.  , 0.  , 0.  , 0.  ,\n",
       "       0.  , 0.  , 0.  , 0.  , 0.  , 0.  , 0.  , 0.  , 0.  , 0.  , 0.  ,\n",
       "       0.  , 0.  , 0.  , 0.  , 0.  , 0.  , 0.  , 0.  , 0.  , 0.  , 0.  ,\n",
       "       0.  , 0.  , 0.  , 0.  , 0.  , 0.92, 0.9 , 0.09, 1.  , 1.  , 0.  ,\n",
       "       0.  , 0.  , 0.  ], dtype=float32)"
      ]
     },
     "execution_count": 28,
     "metadata": {},
     "output_type": "execute_result"
    }
   ],
   "source": [
    "state_to_observation(hole_cards, round_state, valid_actions)"
   ]
  },
  {
   "cell_type": "code",
   "execution_count": 29,
   "id": "04f6f05f",
   "metadata": {},
   "outputs": [],
   "source": [
    "updated_state, events = emulator.apply_action(updated_state, action)"
   ]
  },
  {
   "cell_type": "code",
   "execution_count": 30,
   "id": "7333ce68",
   "metadata": {},
   "outputs": [
    {
     "name": "stdout",
     "output_type": "stream",
     "text": [
      "New state: {'round_count': 1, 'small_blind_amount': 10, 'street': 1, 'next_player': 1, 'table': <pypokerengine.engine.table.Table object at 0x1596b9be0>} \n",
      "\n",
      "Events: [{'type': 'event_new_street', 'street': 'flop', 'round_state': {'street': 'flop', 'pot': {'main': {'amount': 200}, 'side': []}, 'community_card': ['HK', 'C3', 'SJ'], 'dealer_btn': 0, 'next_player': 1, 'small_blind_pos': 1, 'big_blind_pos': 0, 'round_count': 1, 'small_blind_amount': 10, 'seats': [{'name': 'player1', 'uuid': 'player1', 'stack': 900, 'state': 'participating'}, {'name': 'ppo_player', 'uuid': 'player2', 'stack': 900, 'state': 'participating'}], 'action_histories': {'preflop': [{'action': 'SMALLBLIND', 'amount': 10, 'add_amount': 10, 'uuid': 'player2'}, {'action': 'BIGBLIND', 'amount': 20, 'add_amount': 10, 'uuid': 'player1'}, {'action': 'RAISE', 'amount': 40, 'paid': 30, 'add_amount': 20, 'uuid': 'player2'}, {'action': 'RAISE', 'amount': 60, 'paid': 40, 'add_amount': 20, 'uuid': 'player1'}, {'action': 'RAISE', 'amount': 80, 'paid': 40, 'add_amount': 20, 'uuid': 'player2'}, {'action': 'RAISE', 'amount': 100, 'paid': 40, 'add_amount': 20, 'uuid': 'player1'}, {'action': 'CALL', 'amount': 100, 'paid': 20, 'uuid': 'player2'}], 'flop': []}}}, {'type': 'event_ask_player', 'uuid': 'player2', 'valid_actions': [{'action': 'fold'}, {'action': 'call'}, {'action': 'raise'}], 'round_state': {'street': 'flop', 'pot': {'main': {'amount': 200}, 'side': []}, 'community_card': ['HK', 'C3', 'SJ'], 'dealer_btn': 0, 'next_player': 1, 'small_blind_pos': 1, 'big_blind_pos': 0, 'round_count': 1, 'small_blind_amount': 10, 'seats': [{'name': 'player1', 'uuid': 'player1', 'stack': 900, 'state': 'participating'}, {'name': 'ppo_player', 'uuid': 'player2', 'stack': 900, 'state': 'participating'}], 'action_histories': {'preflop': [{'action': 'SMALLBLIND', 'amount': 10, 'add_amount': 10, 'uuid': 'player2'}, {'action': 'BIGBLIND', 'amount': 20, 'add_amount': 10, 'uuid': 'player1'}, {'action': 'RAISE', 'amount': 40, 'paid': 30, 'add_amount': 20, 'uuid': 'player2'}, {'action': 'RAISE', 'amount': 60, 'paid': 40, 'add_amount': 20, 'uuid': 'player1'}, {'action': 'RAISE', 'amount': 80, 'paid': 40, 'add_amount': 20, 'uuid': 'player2'}, {'action': 'RAISE', 'amount': 100, 'paid': 40, 'add_amount': 20, 'uuid': 'player1'}, {'action': 'CALL', 'amount': 100, 'paid': 20, 'uuid': 'player2'}], 'flop': []}}}] \n",
      "\n",
      "round state: {'street': 'flop', 'pot': {'main': {'amount': 200}, 'side': []}, 'community_card': ['HK', 'C3', 'SJ'], 'dealer_btn': 0, 'next_player': 1, 'small_blind_pos': 1, 'big_blind_pos': 0, 'round_count': 1, 'small_blind_amount': 10, 'seats': [{'name': 'player1', 'uuid': 'player1', 'stack': 900, 'state': 'participating'}, {'name': 'ppo_player', 'uuid': 'player2', 'stack': 900, 'state': 'participating'}], 'action_histories': {'preflop': [{'action': 'SMALLBLIND', 'amount': 10, 'add_amount': 10, 'uuid': 'player2'}, {'action': 'BIGBLIND', 'amount': 20, 'add_amount': 10, 'uuid': 'player1'}, {'action': 'RAISE', 'amount': 40, 'paid': 30, 'add_amount': 20, 'uuid': 'player2'}, {'action': 'RAISE', 'amount': 60, 'paid': 40, 'add_amount': 20, 'uuid': 'player1'}, {'action': 'RAISE', 'amount': 80, 'paid': 40, 'add_amount': 20, 'uuid': 'player2'}, {'action': 'RAISE', 'amount': 100, 'paid': 40, 'add_amount': 20, 'uuid': 'player1'}, {'action': 'CALL', 'amount': 100, 'paid': 20, 'uuid': 'player2'}], 'flop': []}}\n",
      "Next player uuid: player2\n",
      "hole_cards: ['SQ', 'D8']\n",
      "valid actions: [{'action': 'fold'}, {'action': 'call'}, {'action': 'raise'}]\n"
     ]
    }
   ],
   "source": [
    "print(f\"New state: {updated_state} \\n\")\n",
    "print(f\"Events: {events} \\n\")\n",
    "\n",
    "round_state = events[1][\"round_state\"]\n",
    "print(f\"round state: {round_state}\") \n",
    "curr_player_uuid = events[1][\"uuid\"]\n",
    "print(f\"Next player uuid: {curr_player_uuid}\")\n",
    "hole_cards = emulator.get_hole_cards(updated_state)\n",
    "print(f\"hole_cards: {hole_cards}\")\n",
    "valid_actions = events[1][\"valid_actions\"]\n",
    "print(f\"valid actions: {valid_actions}\")"
   ]
  },
  {
   "cell_type": "code",
   "execution_count": 31,
   "id": "2cfa1351",
   "metadata": {},
   "outputs": [
    {
     "name": "stdout",
     "output_type": "stream",
     "text": [
      "raise\n"
     ]
    }
   ],
   "source": [
    "curr_player = emulator.fetch_player(curr_player_uuid)\n",
    "action = curr_player.declare_action(valid_actions, hole_cards, round_state)\n",
    "print(action)"
   ]
  },
  {
   "cell_type": "code",
   "execution_count": 32,
   "id": "e22c47e0",
   "metadata": {},
   "outputs": [
    {
     "data": {
      "text/plain": [
       "array([0. , 0. , 0. , 0. , 0. , 0. , 0. , 0. , 0. , 0. , 1. , 0. , 0. ,\n",
       "       0. , 0. , 0. , 0. , 0. , 0. , 0. , 0. , 0. , 0. , 0. , 0. , 0. ,\n",
       "       0. , 0. , 0. , 0. , 0. , 0. , 1. , 0. , 0. , 0. , 0. , 0. , 0. ,\n",
       "       0. , 0. , 0. , 0. , 0. , 0. , 0. , 0. , 0. , 0. , 0. , 0. , 0. ,\n",
       "       0. , 0. , 0. , 0. , 0. , 0. , 0. , 0. , 0. , 1. , 0. , 0. , 0. ,\n",
       "       0. , 0. , 0. , 0. , 0. , 0. , 0. , 0. , 0. , 0. , 0. , 1. , 0. ,\n",
       "       0. , 0. , 0. , 0. , 0. , 0. , 0. , 0. , 0. , 0. , 0. , 0. , 0. ,\n",
       "       0. , 1. , 0. , 0. , 0. , 0. , 0. , 0. , 0. , 0. , 0. , 0. , 0. ,\n",
       "       0.9, 0.9, 0.1, 1. , 0. , 1. , 0. , 0. , 1. ], dtype=float32)"
      ]
     },
     "execution_count": 32,
     "metadata": {},
     "output_type": "execute_result"
    }
   ],
   "source": [
    "state_to_observation(hole_cards, round_state, valid_actions)"
   ]
  },
  {
   "cell_type": "code",
   "execution_count": 33,
   "id": "7e7fbc44",
   "metadata": {},
   "outputs": [],
   "source": [
    "updated_state, events = emulator.apply_action(updated_state, \"fold\")"
   ]
  },
  {
   "cell_type": "code",
   "execution_count": 34,
   "id": "417a4580",
   "metadata": {},
   "outputs": [
    {
     "name": "stdout",
     "output_type": "stream",
     "text": [
      "New state: {'round_count': 1, 'small_blind_amount': 10, 'street': 5, 'next_player': 0, 'table': <pypokerengine.engine.table.Table object at 0x1596b8530>} \n",
      "\n",
      "Events: [{'type': 'event_round_finish', 'round_state': {'street': 'showdown', 'pot': {'main': {'amount': 200}, 'side': []}, 'community_card': ['HK', 'C3', 'SJ', 'C5', 'D7'], 'dealer_btn': 0, 'next_player': 0, 'small_blind_pos': 1, 'big_blind_pos': 0, 'round_count': 1, 'small_blind_amount': 10, 'seats': [{'name': 'player1', 'uuid': 'player1', 'stack': 1100, 'state': 'participating'}, {'name': 'ppo_player', 'uuid': 'player2', 'stack': 900, 'state': 'folded'}], 'action_histories': {'preflop': [{'action': 'SMALLBLIND', 'amount': 10, 'add_amount': 10, 'uuid': 'player2'}, {'action': 'BIGBLIND', 'amount': 20, 'add_amount': 10, 'uuid': 'player1'}, {'action': 'RAISE', 'amount': 40, 'paid': 30, 'add_amount': 20, 'uuid': 'player2'}, {'action': 'RAISE', 'amount': 60, 'paid': 40, 'add_amount': 20, 'uuid': 'player1'}, {'action': 'RAISE', 'amount': 80, 'paid': 40, 'add_amount': 20, 'uuid': 'player2'}, {'action': 'RAISE', 'amount': 100, 'paid': 40, 'add_amount': 20, 'uuid': 'player1'}, {'action': 'CALL', 'amount': 100, 'paid': 20, 'uuid': 'player2'}], 'flop': [{'action': 'FOLD', 'uuid': 'player2'}], 'turn': []}}, 'winners': [{'uuid': 'player1', 'stack': 1100}]}, {'type': 'event_game_finish', 'players': [{'uuid': 'player1', 'stack': 1100}, {'uuid': 'player2', 'stack': 900}]}] \n",
      "\n",
      "len of events: 2\n"
     ]
    }
   ],
   "source": [
    "print(f\"New state: {updated_state} \\n\")\n",
    "print(f\"Events: {events} \\n\")\n",
    "print(f\"len of events: {len(events)}\")"
   ]
  },
  {
   "cell_type": "code",
   "execution_count": 35,
   "id": "7870db54",
   "metadata": {},
   "outputs": [
    {
     "name": "stdout",
     "output_type": "stream",
     "text": [
      "New state: {'round_count': 1, 'small_blind_amount': 10, 'street': 5, 'next_player': 0, 'table': <pypokerengine.engine.table.Table object at 0x1596b8260>} \n",
      "\n",
      "Num Events: 1 \n",
      "\n",
      "1st Event: {'type': 'event_game_finish', 'players': [{'uuid': 'player1', 'stack': 1100}, {'uuid': 'player2', 'stack': 900}]} \n",
      "\n"
     ]
    },
    {
     "ename": "IndexError",
     "evalue": "list index out of range",
     "output_type": "error",
     "traceback": [
      "\u001b[0;31m---------------------------------------------------------------------------\u001b[0m",
      "\u001b[0;31mIndexError\u001b[0m                                Traceback (most recent call last)",
      "Cell \u001b[0;32mIn[35], line 5\u001b[0m\n\u001b[1;32m      3\u001b[0m \u001b[38;5;28mprint\u001b[39m(\u001b[38;5;124mf\u001b[39m\u001b[38;5;124m\"\u001b[39m\u001b[38;5;124mNum Events: \u001b[39m\u001b[38;5;132;01m{\u001b[39;00m\u001b[38;5;28mlen\u001b[39m(events)\u001b[38;5;132;01m}\u001b[39;00m\u001b[38;5;124m \u001b[39m\u001b[38;5;130;01m\\n\u001b[39;00m\u001b[38;5;124m\"\u001b[39m)\n\u001b[1;32m      4\u001b[0m \u001b[38;5;28mprint\u001b[39m(\u001b[38;5;124mf\u001b[39m\u001b[38;5;124m\"\u001b[39m\u001b[38;5;124m1st Event: \u001b[39m\u001b[38;5;132;01m{\u001b[39;00mevents[\u001b[38;5;241m0\u001b[39m]\u001b[38;5;132;01m}\u001b[39;00m\u001b[38;5;124m \u001b[39m\u001b[38;5;130;01m\\n\u001b[39;00m\u001b[38;5;124m\"\u001b[39m)\n\u001b[0;32m----> 5\u001b[0m \u001b[38;5;28mprint\u001b[39m(\u001b[38;5;124mf\u001b[39m\u001b[38;5;124m\"\u001b[39m\u001b[38;5;124m2nd Event: \u001b[39m\u001b[38;5;132;01m{\u001b[39;00m\u001b[43mevents\u001b[49m\u001b[43m[\u001b[49m\u001b[38;5;241;43m1\u001b[39;49m\u001b[43m]\u001b[49m\u001b[38;5;132;01m}\u001b[39;00m\u001b[38;5;124m \u001b[39m\u001b[38;5;130;01m\\n\u001b[39;00m\u001b[38;5;124m\"\u001b[39m)\n",
      "\u001b[0;31mIndexError\u001b[0m: list index out of range"
     ]
    }
   ],
   "source": [
    "new_state, events = emulator.start_new_round(updated_state)\n",
    "print(f\"New state: {new_state} \\n\")\n",
    "print(f\"Num Events: {len(events)} \\n\")\n",
    "print(f\"1st Event: {events[0]} \\n\")\n",
    "print(f\"2nd Event: {events[1]} \\n\")"
   ]
  },
  {
   "cell_type": "code",
   "execution_count": null,
   "id": "d5614982",
   "metadata": {},
   "outputs": [],
   "source": []
  }
 ],
 "metadata": {
  "kernelspec": {
   "display_name": "default",
   "language": "python",
   "name": "python3"
  },
  "language_info": {
   "codemirror_mode": {
    "name": "ipython",
    "version": 3
   },
   "file_extension": ".py",
   "mimetype": "text/x-python",
   "name": "python",
   "nbconvert_exporter": "python",
   "pygments_lexer": "ipython3",
   "version": "3.12.9"
  }
 },
 "nbformat": 4,
 "nbformat_minor": 5
}
